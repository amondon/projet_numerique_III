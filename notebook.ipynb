{
 "cells": [
  {
   "cell_type": "markdown",
   "metadata": {},
   "source": [
    "On importe les dépendances"
   ]
  },
  {
   "cell_type": "code",
   "execution_count": 2,
   "metadata": {},
   "outputs": [],
   "source": [
    "import numpy as np \n",
    "import matplotlib.pyplot as plt \n",
    "import random as rd\n",
    "import math"
   ]
  },
  {
   "cell_type": "markdown",
   "metadata": {},
   "source": [
    "Définition des paramètres de la simulation"
   ]
  },
  {
   "cell_type": "code",
   "execution_count": 17,
   "metadata": {},
   "outputs": [],
   "source": [
    "A=0\n",
    "B=500\n",
    "N=101 #nombre de points de discrétisation\n",
    "\n",
    "Delta=(B-A)/(N-1)\n",
    "discretization_indexes=np.arange(N)\n",
    "discretization= discretization_indexes*Delta\n",
    "\n",
    "mu=-5\n",
    "a=50\n",
    "sigma2=12\n",
    "\n",
    "observation_indexes=[0,20,40,60,80,100]\n",
    "depth=np.array([0,-4,-12.8,-1,-6.5,0])\n",
    "\n",
    "unknown_indexes=list(set(discretization_indexes)-set(observation_indexes))\n",
    "\n",
    "n=len(unknown_indexes)"
   ]
  },
  {
   "cell_type": "code",
   "execution_count": 4,
   "metadata": {},
   "outputs": [],
   "source": [
    "#question 1 :\n",
    "def cov(d,a,sigma2): #permet de créer la matrice de covariance à partir d'une matrice de distance\n",
    "    return sigma2*np.exp(-abs(d)/a)"
   ]
  },
  {
   "cell_type": "code",
   "execution_count": 5,
   "metadata": {},
   "outputs": [],
   "source": [
    "#question 2 :\n",
    "D=np.array([[abs(i-j)*Delta for j in discretization_indexes] for i in discretization_indexes])"
   ]
  },
  {
   "cell_type": "code",
   "execution_count": null,
   "metadata": {},
   "outputs": [],
   "source": [
    "#question 3 : \n",
    "Z=cov(D,a,sigma2)"
   ]
  },
  {
   "cell_type": "code",
   "execution_count": 10,
   "metadata": {},
   "outputs": [],
   "source": [
    "# question 4 :\n",
    "\n",
    "# Matrice de covariance entre les observations\n",
    "D_observation=np.array([[abs(i-j)*Delta for j in observation_indexes] for i in observation_indexes])\n",
    "Z_observation=cov(D_observation,a,sigma2)\n",
    "\n",
    "# Matrice de covariance entre les observations et les inconnues\n",
    "D_observation_unknown=np.array([[abs(i-j)*Delta for j in unknown_indexes] for i in observation_indexes])\n",
    "Z_observation_unknown=cov(D_observation_unknown,a,sigma2)\n",
    "\n",
    "# Matrice de covariance entre les inconnues\n",
    "D_unknown=np.array([[abs(i-j)*Delta for j in unknown_indexes] for i in unknown_indexes])\n",
    "Z_unknown=cov(D_unknown,a,sigma2)"
   ]
  },
  {
   "cell_type": "markdown",
   "metadata": {},
   "source": [
    "Question 5 :\n",
    "On commence par créer un générateur de nombre suivant une loi normale centrée réduite par la méthode de Box-Muller."
   ]
  },
  {
   "cell_type": "code",
   "execution_count": 19,
   "metadata": {},
   "outputs": [],
   "source": [
    "def normale(): \n",
    "    x=rd.random()\n",
    "    y=rd.random()\n",
    "    return math.sqrt(-math.log(x))*math.cos(2*math.pi*y)\n",
    "\n",
    "def vnormale(n):#renvoie un vecteur contenant n loi centrées réduites\n",
    "    return np.array([normale() for i in range (n)])"
   ]
  },
  {
   "cell_type": "markdown",
   "metadata": {},
   "source": [
    "\n",
    "On note $Y$ la variable qui représente les profondeurs inconnues et $Z$ celles des profondeurs obervées.\n",
    "$Z_c$ est le vecteur des observations.\n",
    "\n",
    "$Y_{|Z=Z_c}$ suit une loi normale d'esperance $µ+C_{Y,Z}C_Z^{-1}(Z_c - µ)$ et de matrice de covariance $CS_Y=C_Y − C_{Y,Z}C_Z^{−1}C_{Z,Y}$ où $C_Y$,$C_Z$ et $C_{Z,Y}$ sont respectivement les matrices de covariances pour les inconnues, les observations et entre observations et inconnues.\n",
    "\n",
    "On simule $Y$ sachant $Z=Z_c$ en simulant une loi normale centrée réduite grâce à la question précédente. On la transforme alors en loi normale ayant les bons paramètres. Pour cela il faut prendre la décomposition de Cholesky de la matrice de covariance que l'on appelle $R$."
   ]
  },
  {
   "cell_type": "code",
   "execution_count": 53,
   "metadata": {},
   "outputs": [],
   "source": [
    "def var(depth,pas,obervation_indexes): #retourne un vecteur qui suit la loi Y sachant Z=Zc\n",
    "    R=np.linalg.cholesky(Z_unknown - np.dot(np.dot(np.transpose(Z_observation_unknown),np.linalg.inv(Z_observation)),Z_observation_unknown))\n",
    "    vmu_u=np.array([mu for i in range(n)])\n",
    "    vmu_o=np.array([mu for i in range(len(observation_indexes))])\n",
    "    vesp=vmu_u+np.dot(np.dot(np.transpose(Z_observation_unknown),np.linalg.inv(Z_observation)),depth-vmu_o)\n",
    "    return vesp + np.dot(R,vnormale(n))"
   ]
  },
  {
   "cell_type": "markdown",
   "metadata": {},
   "source": [
    "On veut estimer l'espérance de profondeurs inconnues en sachant les profondeurs observées. \n",
    "L'espérance s'estime à partir de moyennes pour plusieures simulations."
   ]
  },
  {
   "cell_type": "code",
   "execution_count": 39,
   "metadata": {},
   "outputs": [],
   "source": [
    "def esperance(m=1): #renvoie une estimation de l'esperance de par la moyenne de m simulations\n",
    "    S=np.zeros(n)\n",
    "    for i in range(m):\n",
    "        S=S+var()\n",
    "    return S/m"
   ]
  },
  {
   "cell_type": "markdown",
   "metadata": {},
   "source": [
    "On représente maintenant les résultats de la simulation."
   ]
  },
  {
   "cell_type": "code",
   "execution_count": 64,
   "metadata": {},
   "outputs": [
    {
     "data": {
      "image/png": "[encoded data removed]",
      "text/plain": [
       "<Figure size 432x288 with 1 Axes>"
      ]
     },
     "metadata": {
      "needs_background": "light"
     },
     "output_type": "display_data"
    }
   ],
   "source": [
    "#affichage\n",
    "def affichage(m=1):\n",
    "    plt.plot(unknown_indexes,esperance(m))\n",
    "    plt.show()\n",
    "    \n",
    "affichage(100)"
   ]
  },
  {
   "cell_type": "markdown",
   "metadata": {},
   "source": [
    "Question 6 : ..."
   ]
  },
  {
   "cell_type": "markdown",
   "metadata": {},
   "source": [
    "Question 7 :\n",
    "On affiche sur le même graphique la simulation et les observations."
   ]
  },
  {
   "cell_type": "code",
   "execution_count": 61,
   "metadata": {},
   "outputs": [
    {
     "data": {
      "image/png": "[encoded data removed]",
      "text/plain": [
       "<Figure size 432x288 with 1 Axes>"
      ]
     },
     "metadata": {
      "needs_background": "light"
     },
     "output_type": "display_data"
    }
   ],
   "source": [
    "def affichage_mixte(m=1):\n",
    "    plt.plot(unknown_indexes,esperance(m))\n",
    "    plt.plot(observation_indexes,depth,'+')\n",
    "    plt.show()\n",
    "    \n",
    "affichage_mixte(10000)"
   ]
  },
  {
   "cell_type": "markdown",
   "metadata": {},
   "source": [
    "On remarque que les observations tendent à être reliées par des droites. Sur toutes les configurations possibles, en moyenne il n'y aura pas de pic intermédiaire et cela à tendance à lisser la courbe.\n",
    "Par exemple en prennant peu d'étapes de simulation on peut obtenir des \"pics\"."
   ]
  },
  {
   "cell_type": "code",
   "execution_count": 63,
   "metadata": {},
   "outputs": [
    {
     "data": {
      "image/png": "[encoded data removed]",
      "text/plain": [
       "<Figure size 432x288 with 1 Axes>"
      ]
     },
     "metadata": {
      "needs_background": "light"
     },
     "output_type": "display_data"
    }
   ],
   "source": [
    "affichage_mixte()"
   ]
  },
  {
   "cell_type": "markdown",
   "metadata": {},
   "source": [
    "Question 8 : Maintenant que l'on peut estimer la profondeur du fond marin grâce aux observations il est possible d'estimer la longueur nécessaire pour le cable. Pour chaque étape de simulation on calcule la longueur du cable puis on fait une moyenne"
   ]
  },
  {
   "cell_type": "code",
   "execution_count": 75,
   "metadata": {},
   "outputs": [
    {
     "data": {
      "text/plain": [
       "512.3382336337015"
      ]
     },
     "execution_count": 75,
     "metadata": {},
     "output_type": "execute_result"
    }
   ],
   "source": [
    "def longueur(m):\n",
    "    S=0\n",
    "    \n",
    "    for k in range(m):\n",
    "        #on créé une liste contenant toutes les profondeurs (observées et simulées)\n",
    "        profondeur=list(var())\n",
    "        j=0\n",
    "        for i in observation_indexes:\n",
    "            profondeur.insert(i,depth[j])\n",
    "            j+=1\n",
    "        \n",
    "        s=0\n",
    "        for i in range(len(profondeur)-1):\n",
    "            s+=math.sqrt((profondeur[i+1]-profondeur[i])**2+Delta**2)\n",
    "        \n",
    "        S+=s\n",
    "    \n",
    "    return S/m\n",
    "    \n",
    "longueur(100)   "
   ]
  },
  {
   "cell_type": "markdown",
   "metadata": {},
   "source": [
    "Question 9 : Si on calcule la longueur associée à l'espérance conditionnelle, on obtient :"
   ]
  },
  {
   "cell_type": "code",
   "execution_count": 77,
   "metadata": {},
   "outputs": [
    {
     "data": {
      "text/plain": [
       "501.7325010549317"
      ]
     },
     "execution_count": 77,
     "metadata": {},
     "output_type": "execute_result"
    }
   ],
   "source": [
    "def longueur_condi(m):\n",
    "    profondeur=list(esperance(m))\n",
    "    j=0\n",
    "    for i in observation_indexes:\n",
    "        profondeur.insert(i,depth[j])\n",
    "        j+=1\n",
    "\n",
    "    s=0\n",
    "    for i in range(len(profondeur)-1):\n",
    "        s+=math.sqrt((profondeur[i+1]-profondeur[i])**2+Delta**2)\n",
    "    return s\n",
    "\n",
    "longueur_condi(100)"
   ]
  },
  {
   "cell_type": "markdown",
   "metadata": {},
   "source": [
    "On remarque que la longueur est bien plus faible. Cela s'explique par le fait que comme vu précedemment, prendre l'espérance lisse le fond marine et diminue alors directement la longueur du cable nécessaire."
   ]
  }
 ],
 "metadata": {
  "kernelspec": {
   "display_name": "Python 3",
   "language": "python",
   "name": "python3"
  },
  "language_info": {
   "codemirror_mode": {
    "name": "ipython",
    "version": 3
   },
   "file_extension": ".py",
   "mimetype": "text/x-python",
   "name": "python",
   "nbconvert_exporter": "python",
   "pygments_lexer": "ipython3",
   "version": "3.7.3"
  }
 },
 "nbformat": 4,
 "nbformat_minor": 2
}
