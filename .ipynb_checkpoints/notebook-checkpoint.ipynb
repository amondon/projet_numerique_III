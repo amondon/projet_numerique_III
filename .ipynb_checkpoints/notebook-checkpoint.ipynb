{
 "cells": [
  {
   "cell_type": "markdown",
   "metadata": {},
   "source": [
    "1. La loi des grands nombres nous autorise à approcher l'espérance conditionnelle par la moyenne empirique des simulations conditionnelles."
   ]
  },
  {
   "cell_type": "markdown",
   "metadata": {},
   "source": [
    "2. On pose $ Z' = (Z_I,Z_C)=(Z(x_{j_1},...x_{j_n},x_0,...x_N))$,\n",
    "où les composantes de $ Z_C $ ne répètent pas celles de $ Z_I $ :\n",
    "\n",
    "$$Z_I = (x{j_i},i \\in[1,n]), Z_C = (x_i, i \\in([0,N] \\backslash (j_k,k \\in[1,n]))) $$\n",
    "\n",
    "On ré-indexe les différents $ (x_i, i \\in[0,N]) $ en l'ensemble $ (x'_i, i \\in[0,N]) $ tel que l''on puisse écrire $ Z' = (Z(x_i'), i \\in[0,N]) $.\n",
    "\n",
    "On applique alors la formule sur la fonction de répartition conditionnelle des vecteurs gaussiens à $ Z'=(Z_I,Z_C) $ :\n",
    "\n",
    "$$ f_{Z_I | Z_C = z_C}(z_I) = \\frac{1}{(2\\pi)^{N-n+2}\\sqrt{det(CS_{Z_I})}}exp(-\\frac{1}{2}(z_I-\\psi(z_C))^TCS_{Z_I}^{-1}(z_I-\\psi(z_C))) $$,\n",
    "\n",
    "où $z_C=(z(x_{j_i}),i \\in [1,N]) $, $ C_{Z_I}= Cov(Z_I,Z_I) $, $ C_{Z_C}=Cov(Z_C,Z_C) $, $ C_{Z_I,Z_C}=Cov(Z_I,Z_C) $,\n",
    "\n",
    "$ C_{Z_C,Z_I}=Cov(Z_C,Z_I) $, $ CS_{Z_I}=C_{Z_I}-C_{Z_I,Z_C}C_{Z_C}^{-1}C_{Z_C,Z_I} $, et $ \\psi(Z_C)=E(Z_I|Z_C)$."
   ]
  },
  {
   "cell_type": "markdown",
   "metadata": {},
   "source": [
    "3. On note $ R = \\begin{pmatrix} r_{11} &\\dots & r_{1n} \\\\ \\vdots & \\ddots & \\vdots \\\\ r_{n1} & \\dots & r_{nn} \\end{pmatrix} $,\n",
    "\n",
    "alors $ (m+RY)_i=\\sum_{j=1}^pr_{ij}*Y_j +m_i $ qui est bien une loi gaussienne (somme de lois gaussiennes indépendantes).\n",
    "\n",
    "Soient $ \\lambda $ et $ \\mu \\in R, i_1, i_2 \\in [1,n] $, alors $ \\lambda(m+RY)_{i_1}+mu(m+RY)_{i_2}=\\lambda*m_{i_1}+\\mu*m_{i_2}+\\sum_{j=1}^p(\\lambda*r_{i_1j}+\\mu*r_{i_2j})*Y_j $ qui suit bien une loi gaussienne (somme de lois gaussiennes indépendantes). $ Z $ est alors un vecteur gaussien.\n",
    "\n",
    "$ V(Z)=E((Z-E(Z))*(Z-E(Z))^T) = E(RY*(RY)^T)=E(RYY^TR^T)=RE(YY^T)R^T=RR^T $, définie positive car R est inversible.\n",
    "\n",
    "Si $ i\\neq j, E(Y_i*Y_j)=E(Y_i)*E(Y_j)=0 $\n",
    "\n",
    "Si $i=j, E(Y_i^2)=V(Y_i)=1 $"
   ]
  },
  {
   "cell_type": "markdown",
   "metadata": {},
   "source": [
    "4. Ainsi, en posant $ m = E(Z_I|Z_C=z) $ et $ R $ telle que $ RR^T=V(Z_I/Z_C=z) $, on peut simuler $ {Z_I}_{Z_C=z} $ en générant $ Y $ et en calculant $ m+RY $."
   ]
  },
  {
   "cell_type": "markdown",
   "metadata": {},
   "source": [
    "On importe les dépendances"
   ]
  },
  {
   "cell_type": "code",
   "execution_count": 47,
   "metadata": {},
   "outputs": [],
   "source": [
    "import numpy as np\n",
    "from numpy import linalg\n",
    "import matplotlib.pyplot as plt \n",
    "import random as rd\n",
    "import math"
   ]
  },
  {
   "cell_type": "markdown",
   "metadata": {},
   "source": [
    "Définition des paramètres de la simulation"
   ]
  },
  {
   "cell_type": "code",
   "execution_count": 48,
   "metadata": {},
   "outputs": [],
   "source": [
    "A=0\n",
    "B=500\n",
    "N=101 #nombre de points de discrétisation\n",
    "\n",
    "Delta=(B-A)/(N-1)\n",
    "discretization_indexes=np.arange(N)\n",
    "discretization= discretization_indexes*Delta\n",
    "\n",
    "mu=-5\n",
    "a=50\n",
    "sigma2=12\n",
    "\n",
    "observation_indexes=[0,20,40,60,80,100]\n",
    "depth=np.array([0,-4,-12.8,-1,-6.5,0])\n",
    "\n",
    "unknown_indexes=list(set(discretization_indexes)-set(observation_indexes))\n",
    "\n",
    "n=len(unknown_indexes)"
   ]
  },
  {
   "cell_type": "code",
   "execution_count": 49,
   "metadata": {},
   "outputs": [],
   "source": [
    "#question 1 :\n",
    "def cov(d,a,sigma2): #permet de créer la matrice de covariance à partir d'une matrice de distance\n",
    "    return sigma2*np.exp(-abs(d)/a)"
   ]
  },
  {
   "cell_type": "code",
   "execution_count": 50,
   "metadata": {},
   "outputs": [],
   "source": [
    "#question 2 :\n",
    "D=np.array([[abs(i-j)*Delta for j in discretization_indexes] for i in discretization_indexes])"
   ]
  },
  {
   "cell_type": "code",
   "execution_count": 51,
   "metadata": {},
   "outputs": [],
   "source": [
    "#question 3 : \n",
    "Z=cov(D,a,sigma2)"
   ]
  },
  {
   "cell_type": "code",
   "execution_count": 52,
   "metadata": {},
   "outputs": [],
   "source": [
    "# question 4 :\n",
    "\n",
    "# Matrice de covariance entre les observations, et son inverse\n",
    "D_observation=np.array([[abs(i-j)*Delta for j in observation_indexes] for i in observation_indexes])\n",
    "Z_observation=cov(D_observation,a,sigma2)\n",
    "\n",
    "Z_observation_inv=np.linalg.inv(Z_observation)\n",
    "\n",
    "# Matrice de covariance entre les observations et les inconnues\n",
    "D_observation_unknown=np.array([[abs(i-j)*Delta for j in unknown_indexes] for i in observation_indexes])\n",
    "Z_observation_unknown=cov(D_observation_unknown,a,sigma2)\n",
    "\n",
    "# Matrice de covariance entre les inconnues et les observations\n",
    "Z_unknown_observation = Z_observation_unknown.T\n",
    "\n",
    "# Matrice de covariance entre les inconnues\n",
    "D_unknown=np.array([[abs(i-j)*Delta for j in unknown_indexes] for i in unknown_indexes])\n",
    "Z_unknown=cov(D_unknown,a,sigma2)"
   ]
  },
  {
   "cell_type": "markdown",
   "metadata": {},
   "source": [
    "Question 5 :\n",
    "On commence par créer un générateur de nombre suivant une loi normale centrée réduite par la méthode de Box-Muller."
   ]
  },
  {
   "cell_type": "code",
   "execution_count": 53,
   "metadata": {},
   "outputs": [],
   "source": [
    "def normale(): \n",
    "    x=rd.random()\n",
    "    y=rd.random()\n",
    "    return math.sqrt(-math.log(x))*math.cos(2*math.pi*y)\n",
    "\n",
    "def vnormale(n):#renvoie un vecteur contenant n loi centrées réduites\n",
    "    return np.array([normale() for i in range (n)])"
   ]
  },
  {
   "cell_type": "markdown",
   "metadata": {},
   "source": [
    "\n",
    "On note $Y$ la variable qui représente les profondeurs inconnues et $Z$ celles des profondeurs obervées.\n",
    "$Z_c$ est le vecteur des observations.\n",
    "\n",
    "$Y_{|Z=Z_c}$ suit une loi normale d'esperance $µ+C_{Y,Z}C_Z^{-1}(Z_c - µ)$ et de matrice de covariance $CS_Y=C_Y − C_{Y,Z}C_Z^{−1}C_{Z,Y}$ où $C_Y$,$C_Z$ et $C_{Z,Y}$ sont respectivement les matrices de covariances pour les inconnues, les observations et entre observations et inconnues.\n",
    "\n",
    "On simule $Y$ sachant $Z=Z_c$ en simulant une loi normale centrée réduite grâce à la question précédente. On la transforme alors en loi normale ayant les bons paramètres. Pour cela il faut prendre la décomposition de Cholesky de la matrice de covariance que l'on appelle $R$."
   ]
  },
  {
   "cell_type": "code",
   "execution_count": 54,
   "metadata": {},
   "outputs": [],
   "source": [
    "def var(depth,pas,observation_indexes): #retourne un vecteur qui suit la loi Y sachant Z=Zc\n",
    "    R=np.linalg.cholesky(Z_unknown - np.dot(np.dot(np.transpose(Z_observation_unknown),np.linalg.inv(Z_observation)),Z_observation_unknown))\n",
    "    vmu_u=np.array([mu for i in range(n)])\n",
    "    vmu_o=np.array([mu for i in range(len(observation_indexes))])\n",
    "    vesp=vmu_u+np.dot(np.dot(np.transpose(Z_observation_unknown),np.linalg.inv(Z_observation)),depth-vmu_o)\n",
    "    return vesp + np.dot(R,vnormale(n))"
   ]
  },
  {
   "cell_type": "markdown",
   "metadata": {},
   "source": [
    "On veut estimer l'espérance de profondeurs inconnues en sachant les profondeurs observées. \n",
    "L'espérance s'estime à partir de moyennes pour plusieures simulations."
   ]
  },
  {
   "cell_type": "code",
   "execution_count": 55,
   "metadata": {},
   "outputs": [],
   "source": [
    "def esperance(m=1): #renvoie une estimation de l'esperance de par la moyenne de m simulations\n",
    "    S=np.zeros(n)\n",
    "    for i in range(m):\n",
    "        S=S+var(depth,Delta,observation_indexes)\n",
    "    return S/m"
   ]
  },
  {
   "cell_type": "markdown",
   "metadata": {},
   "source": [
    "On représente maintenant les résultats de la simulation."
   ]
  },
  {
   "cell_type": "code",
   "execution_count": 56,
   "metadata": {},
   "outputs": [
    {
     "data": {
      "image/png": "[encoded data removed]",
      "text/plain": [
       "<Figure size 432x288 with 1 Axes>"
      ]
     },
     "metadata": {
      "needs_background": "light"
     },
     "output_type": "display_data"
    }
   ],
   "source": [
    "#affichage\n",
    "def affichage(m=1):\n",
    "    plt.plot(unknown_indexes,esperance(m))\n",
    "    plt.show()\n",
    "    \n",
    "affichage(100)"
   ]
  },
  {
   "cell_type": "markdown",
   "metadata": {},
   "source": [
    "On peut également appliquer la formule donnant l'espérance conditonnelle de $Y$ en fonction de $Z_{C}$"
   ]
  },
  {
   "cell_type": "code",
   "execution_count": 57,
   "metadata": {},
   "outputs": [
    {
     "data": {
      "text/plain": [
       "[]"
      ]
     },
     "execution_count": 57,
     "metadata": {},
     "output_type": "execute_result"
    },
    {
     "data": {
      "image/png": "[encoded data removed]",
      "text/plain": [
       "<Figure size 432x288 with 1 Axes>"
      ]
     },
     "metadata": {
      "needs_background": "light"
     },
     "output_type": "display_data"
    }
   ],
   "source": [
    "E_Y = mu + Z_unknown_observation.dot(Z_observation_inv).dot(depth-mu)\n",
    "\n",
    "L_positions = [index*5 for index in unknown_indexes]\n",
    "\n",
    "plt.plot(L_positions,E_Y)\n",
    "plt.plot()"
   ]
  },
  {
   "cell_type": "markdown",
   "metadata": {},
   "source": [
    "Question 6 : La matrice de variance conditionnelle $CS_Y$ représente"
   ]
  },
  {
   "cell_type": "code",
   "execution_count": 58,
   "metadata": {},
   "outputs": [
    {
     "data": {
      "image/png": "[encoded data removed]",
      "text/plain": [
       "<Figure size 432x288 with 1 Axes>"
      ]
     },
     "metadata": {
      "needs_background": "light"
     },
     "output_type": "display_data"
    }
   ],
   "source": [
    "CSY = Z_unknown - Z_unknown_observation.dot(Z_observation_inv).dot(Z_observation_unknown)\n",
    "\n",
    "L_var = [CSY[i,i] for i in range (len(unknown_indexes))]\n",
    "\n",
    "L_pos = [index*5 for index in unknown_indexes]\n",
    "\n",
    "plt.plot(L_pos,L_var)\n",
    "plt.show()"
   ]
  },
  {
   "cell_type": "markdown",
   "metadata": {},
   "source": [
    "On observe que la variance (et donc l'incertitude sur la profondeur) est d'autant plus grande que l'on est situé loin d'un point de mesure. Cela semble cohérent : à proximité des points de mesure, la profondeur est très proche de la valeure mesurée à côté, et est donc connue avec une bonne précision. Au contriare, lorsque l'on s'éloigne des points de mesure, la profondeur est moins liée à la profondeur mesurée, ce qui fait que la variance conditionnelle est élevée (à 9m^2, alors que la variance non conditionnnelle est à 12m^2)."
   ]
  },
  {
   "cell_type": "markdown",
   "metadata": {},
   "source": [
    "Question 7 :\n",
    "On affiche sur le même graphique la simulation et les observations."
   ]
  },
  {
   "cell_type": "code",
   "execution_count": 59,
   "metadata": {},
   "outputs": [
    {
     "data": {
      "image/png": "[encoded data removed]",
      "text/plain": [
       "<Figure size 432x288 with 1 Axes>"
      ]
     },
     "metadata": {
      "needs_background": "light"
     },
     "output_type": "display_data"
    }
   ],
   "source": [
    "def affichage_mixte(m=1):\n",
    "    plt.plot(unknown_indexes,esperance(m))\n",
    "    plt.plot(observation_indexes,depth,'+')\n",
    "    plt.show()\n",
    "    \n",
    "affichage_mixte(10000)"
   ]
  },
  {
   "cell_type": "markdown",
   "metadata": {},
   "source": [
    "On remarque que les observations tendent à être reliées par des droites. Sur toutes les configurations possibles, en moyenne il n'y aura pas de pic intermédiaire et cela à tendance à lisser la courbe.\n",
    "Par exemple en prennant peu d'étapes de simulation on peut obtenir des \"pics\"."
   ]
  },
  {
   "cell_type": "code",
   "execution_count": 60,
   "metadata": {},
   "outputs": [
    {
     "data": {
      "image/png": "[encoded data removed]",
      "text/plain": [
       "<Figure size 432x288 with 1 Axes>"
      ]
     },
     "metadata": {
      "needs_background": "light"
     },
     "output_type": "display_data"
    }
   ],
   "source": [
    "affichage_mixte()"
   ]
  },
  {
   "cell_type": "markdown",
   "metadata": {},
   "source": [
    "Question 8 : Maintenant que l'on peut estimer la profondeur du fond marin grâce aux observations il est possible d'estimer la longueur nécessaire pour le cable. Pour chaque étape de simulation on calcule la longueur du cable puis on fait une moyenne"
   ]
  },
  {
   "cell_type": "code",
   "execution_count": 61,
   "metadata": {},
   "outputs": [
    {
     "data": {
      "text/plain": [
       "512.3224214370764"
      ]
     },
     "execution_count": 61,
     "metadata": {},
     "output_type": "execute_result"
    }
   ],
   "source": [
    "def longueur(m=1):\n",
    "    S=0\n",
    "    \n",
    "    for k in range(m):\n",
    "        #on créé une liste contenant toutes les profondeurs (observées et simulées)\n",
    "        profondeur=list(var(depth, Delta, observation_indexes))\n",
    "        j=0\n",
    "        for i in observation_indexes:\n",
    "            profondeur.insert(i,depth[j])\n",
    "            j+=1\n",
    "        \n",
    "        s=0\n",
    "        for i in range(len(profondeur)-1):\n",
    "            s+=math.sqrt((profondeur[i+1]-profondeur[i])**2+Delta**2)\n",
    "        \n",
    "        S+=s\n",
    "    \n",
    "    return S/m\n",
    "    \n",
    "longueur(100)   "
   ]
  },
  {
   "cell_type": "markdown",
   "metadata": {},
   "source": [
    "Question 9 : Si on calcule la longueur associée à l'espérance conditionnelle, on obtient :"
   ]
  },
  {
   "cell_type": "code",
   "execution_count": 62,
   "metadata": {},
   "outputs": [
    {
     "data": {
      "text/plain": [
       "501.7606770643305"
      ]
     },
     "execution_count": 62,
     "metadata": {},
     "output_type": "execute_result"
    }
   ],
   "source": [
    "def longueur_condi(m):\n",
    "    profondeur=list(esperance(m))\n",
    "    j=0\n",
    "    for i in observation_indexes:\n",
    "        profondeur.insert(i,depth[j])\n",
    "        j+=1\n",
    "\n",
    "    s=0\n",
    "    for i in range(len(profondeur)-1):\n",
    "        s+=math.sqrt((profondeur[i+1]-profondeur[i])**2+Delta**2)\n",
    "    return s\n",
    "\n",
    "longueur_condi(100)"
   ]
  },
  {
   "cell_type": "markdown",
   "metadata": {},
   "source": [
    "On remarque que la longueur est bien plus faible. Cela s'explique par le fait que comme vu précedemment, prendre l'espérance lisse le fond marin et diminue alors directement la longueur du cable nécessaire. L'estimation faisant la moyenne des longueurs générées est plus précise et réaliste et évite l'effet du au lissage"
   ]
  },
  {
   "cell_type": "markdown",
   "metadata": {},
   "source": [
    "Question 10 : On calcule maintenant la suite $M_n$ qui représente l'estimation de la longueur du cable faite à partir de $n$ simulations."
   ]
  },
  {
   "cell_type": "code",
   "execution_count": 63,
   "metadata": {},
   "outputs": [
    {
     "data": {
      "image/png": "[encoded data removed]",
      "text/plain": [
       "<Figure size 432x288 with 1 Axes>"
      ]
     },
     "metadata": {
      "needs_background": "light"
     },
     "output_type": "display_data"
    }
   ],
   "source": [
    "def Mn(m,e):\n",
    "    l1=list()\n",
    "    l12=list()\n",
    "    l13=list()\n",
    "    l2=list()\n",
    "    for i in range(1,m):\n",
    "        if i%e==0:\n",
    "            l1.append(longueur(i))\n",
    "            l12.append(longueur(i))\n",
    "            l13.append(longueur(i))\n",
    "            l2.append(i)\n",
    "    plt.plot(l2,l1)\n",
    "    plt.plot(l2,l12)\n",
    "    plt.plot(l2,l13)\n",
    "    plt.show()\n",
    "\n",
    "Mn(100,1)"
   ]
  },
  {
   "cell_type": "markdown",
   "metadata": {},
   "source": [
    "On remarque que d'une simulation à l'autre le début de la courbe varie légèrement mais que l'on tend toujours vers la même limite. Cela s'explique par le fait que les premiers termes de $M_n$ ne dépendent que du résultats de peu de simulations et est donc plus variable."
   ]
  },
  {
   "cell_type": "markdown",
   "metadata": {},
   "source": [
    "Question 11 : On fait un histogramme des valeurs rencontrées pour la longueur du cable."
   ]
  },
  {
   "cell_type": "code",
   "execution_count": 64,
   "metadata": {},
   "outputs": [
    {
     "data": {
      "image/png": "[encoded data removed]",
      "text/plain": [
       "<Figure size 432x288 with 1 Axes>"
      ]
     },
     "metadata": {
      "needs_background": "light"
     },
     "output_type": "display_data"
    }
   ],
   "source": [
    "def histo(m):\n",
    "    l=list()\n",
    "    for i in range(m):\n",
    "        l.append(longueur())\n",
    "    plt.hist(l,range=(505,520),bins=100)\n",
    "    \n",
    "histo(1000)"
   ]
  },
  {
   "cell_type": "markdown",
   "metadata": {},
   "source": [
    "On remarque que la figure se rapproche d'une gaussiènne avec un légère asymétrie."
   ]
  },
  {
   "cell_type": "markdown",
   "metadata": {},
   "source": [
    "Question 12 : Une première méthode consiste à approximer la distribution des longueurs en une gaussiène d'espérance $\\mu$. \n",
    "\n",
    "On calcule l'écart-type numériquement avec la formule $\\sigma=\\sqrt{\\frac{1}{m}\\sum_{i=0}^m (l_i-\\mu)^2}$ où $l_i$ est la longueur obtenue à la i-ème simulation."
   ]
  },
  {
   "cell_type": "code",
   "execution_count": 65,
   "metadata": {},
   "outputs": [
    {
     "name": "stdout",
     "output_type": "stream",
     "text": [
      "(512.3404718104459, 1.5364851009025622)\n"
     ]
    }
   ],
   "source": [
    "def approximation(l):#l est la liste contenant les simulations de longueur\n",
    "    sigma=0\n",
    "    s=0\n",
    "    for i in (l):\n",
    "        s+=i\n",
    "    mu=s/len(l)\n",
    "    \n",
    "    S=0\n",
    "    for i in (l):\n",
    "        S+=(i-mu)**2\n",
    "    \n",
    "    sigma=math.sqrt(S/len(l))\n",
    "    \n",
    "    return (mu,sigma)\n",
    "        \n",
    "print(approximation([longueur() for i in range(10000)]))"
   ]
  },
  {
   "cell_type": "markdown",
   "metadata": {},
   "source": [
    "On fait maintenant les calculs avec la gaussiènne de paramètres ($\\mu=512.3 , \\sigma=1.5)$ (chiffres obtenus pour 10000 simulations).\n",
    "\n",
    "On a une probabilité de 95% de trouver une longueur dans l'intervalle $[\\mu-2\\sigma,\\mu+2\\sigma]=[509.3, \n",
    "515.3]$"
   ]
  },
  {
   "cell_type": "markdown",
   "metadata": {},
   "source": [
    "Une seconde méthode consiste à trouver cette intervalle numériquement sans approximer la fonction. On créer une liste qui contient les données de l'histogramme (nombre d'apparitions par intervalles). Cette liste correspond en quelquesorte à la fonction de densité discrète de la variable aléatoire longueur. En calculant l'aire sous cette densité on obtient une probabilité.\n",
    "\n",
    "L'idée est d'agrandir progressivement un intervalle partant d'une valeut intermédiaire et s'arrêter lorsque l'aire dépasse 0.95.\n",
    "\n",
    "\n",
    "L'inconvénient de cette méthode est qu'elle depend du pas choisi dans l'histogramme.\n"
   ]
  },
  {
   "cell_type": "code",
   "execution_count": 80,
   "metadata": {},
   "outputs": [],
   "source": [
    "#on se place sur un intervalle [500,525] que l'on découpe en M=100 intervalles réguliers\n",
    "delta=(525-500)/100\n",
    "\n",
    "def liste_histo(l):\n",
    "    L=[0 for i in range(101)]\n",
    "    \n",
    "    for i in l:#pour chaque élément de la liste on cherche dans quelle subdivision il se trouve et on incrémente le compteur associé dans L\n",
    "        for j in range(100):\n",
    "            if 500+j*delta<=i<500+(j+1)*delta:\n",
    "                L[j]+=1/100 #la division sert à normaliser l'aire sous la courbe\n",
    "    return L\n",
    "                "
   ]
  },
  {
   "cell_type": "code",
   "execution_count": null,
   "metadata": {},
   "outputs": [],
   "source": []
  },
  {
   "cell_type": "code",
   "execution_count": 92,
   "metadata": {},
   "outputs": [],
   "source": [
    "#on fait 100 simualtions \n",
    "def intervalle(L):\n",
    "    k=0\n",
    "    a=delta*L[49]\n",
    "    while a<0.95:\n",
    "        k+=1\n",
    "        a+=(L[49+k]+L[49-k])\n",
    "\n",
    "    return (512.5-k*delta,512.5+delta*k)"
   ]
  },
  {
   "cell_type": "code",
   "execution_count": 91,
   "metadata": {},
   "outputs": [
    {
     "data": {
      "text/plain": [
       "(509.25, 515.75)"
      ]
     },
     "execution_count": 91,
     "metadata": {},
     "output_type": "execute_result"
    }
   ],
   "source": [
    "l=[longueur() for i in range(100)]\n",
    "intervalle(liste_histo(l))"
   ]
  },
  {
   "cell_type": "markdown",
   "metadata": {},
   "source": [
    "Question 13 : On réutilise l'approximation par une gaussiènne de la question précédente. On connait la densité de la gaussiènne qui vaut : $$f(x)=\\frac{1}{\\sqrt{2\\pi}\\sigma}e^{\\frac{-(x-\\mu)²}{2\\sigma²}}$$\n",
    "\n",
    "On intégre alors cette densité sur l'intervalle $]-\\infty,525]$.\n",
    "\n",
    "On sait que $\\int_{-\\infty}^{\\mu}f(x)dx=\\frac{1}{2}$\n",
    "\n",
    "On intégre alors la partie restante numériquement avec une méthode des rectangles par exemple."
   ]
  },
  {
   "cell_type": "code",
   "execution_count": null,
   "metadata": {},
   "outputs": [],
   "source": [
    "#paramètre de la gaussiènne\n",
    "mu1=512.3\n",
    "sigma=1.5"
   ]
  },
  {
   "cell_type": "code",
   "execution_count": null,
   "metadata": {},
   "outputs": [],
   "source": [
    "#fonction densité\n",
    "def f(x):\n",
    "    return (1/(math.sqrt(2*math.pi)*sigma)) * math.exp(-(x-mu1)**2/(2*sigma**2))\n"
   ]
  },
  {
   "cell_type": "code",
   "execution_count": null,
   "metadata": {},
   "outputs": [],
   "source": [
    "#ntégration numérique par la méthode des rectangles\n",
    "def integration_rectangle(a,b,n,f):\n",
    "    S=0\n",
    "    delta=(b-a)/(n-1)\n",
    "    for i in range(n):\n",
    "        S+=delta*f(a+delta*i)\n",
    "    return S"
   ]
  },
  {
   "cell_type": "code",
   "execution_count": null,
   "metadata": {},
   "outputs": [],
   "source": [
    "print(integration_rectangle(mu1,525,10000,f)+0.5)"
   ]
  },
  {
   "cell_type": "markdown",
   "metadata": {},
   "source": [
    "Les approximations sont trop grossières pour pour voir donner un résultat précis. Cependant on voit que cette probabilité va tendre vers 1. Ainsi, la probabilité que la longueur du câble dépasse 525m est presque nulle."
   ]
  }
 ],
 "metadata": {
  "kernelspec": {
   "display_name": "Python 3",
   "language": "python",
   "name": "python3"
  },
  "language_info": {
   "codemirror_mode": {
    "name": "ipython",
    "version": 3
   },
   "file_extension": ".py",
   "mimetype": "text/x-python",
   "name": "python",
   "nbconvert_exporter": "python",
   "pygments_lexer": "ipython3",
   "version": "3.7.3"
  }
 },
 "nbformat": 4,
 "nbformat_minor": 2
}
